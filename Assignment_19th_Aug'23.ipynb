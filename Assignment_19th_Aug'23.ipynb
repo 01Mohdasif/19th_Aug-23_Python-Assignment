{
 "cells": [
  {
   "cell_type": "markdown",
   "id": "d32eab18-adc2-4496-a9f9-919e1e5ad50e",
   "metadata": {},
   "source": [
    "1. Declare two variables, `x` and `y`, and assign them integer values. Swap the\n",
    "values of these variables without using any temporary variable."
   ]
  },
  {
   "cell_type": "code",
   "execution_count": 1,
   "id": "9a2f1b86-e4c1-4120-8e0b-0c0f75502e95",
   "metadata": {},
   "outputs": [
    {
     "name": "stdout",
     "output_type": "stream",
     "text": [
      "After swapping:\n",
      "x = 10\n",
      "y = 5\n"
     ]
    }
   ],
   "source": [
    "x = 5\n",
    "y = 10\n",
    "\n",
    "x, y = y, x\n",
    "\n",
    "print(\"After swapping:\")\n",
    "print(\"x =\", x)\n",
    "print(\"y =\", y)"
   ]
  },
  {
   "cell_type": "markdown",
   "id": "1e62f646-0e50-43be-beec-8ee8b03a0e11",
   "metadata": {},
   "source": [
    "2. Create a program that calculates the area of a rectangle. Take the length and\n",
    "width as inputs from the user and store them in variables. Calculate and\n",
    "display the area."
   ]
  },
  {
   "cell_type": "code",
   "execution_count": 2,
   "id": "07387d4d-6488-47dc-bc93-8cf6fc9ee7fa",
   "metadata": {},
   "outputs": [
    {
     "name": "stdin",
     "output_type": "stream",
     "text": [
      "Enter the length of the rectangle:  12.5\n",
      "Enter the width of the rectangle:  12.8\n"
     ]
    },
    {
     "name": "stdout",
     "output_type": "stream",
     "text": [
      "The area of the rectangle is: 160.0\n"
     ]
    }
   ],
   "source": [
    "# Taking here Float as we can use any value Integer or Float Both\n",
    "# Here x= length and y= Width i have taken\n",
    "x = float(input(\"Enter the length of the rectangle: \"))\n",
    "y = float(input(\"Enter the width of the rectangle: \"))\n",
    "\n",
    "# Formula of area of rectangle is area= length * Width\n",
    "area = x * y\n",
    "\n",
    "\n",
    "print(\"The area of the rectangle is:\", area)"
   ]
  },
  {
   "cell_type": "markdown",
   "id": "da7285fe-ca3b-4b22-acfb-2c59fde033aa",
   "metadata": {},
   "source": [
    "3. Write a Python program that converts temperatures from Celsius to\n",
    "Fahrenheit. Take the temperature in Celsius as input, store it in a variable,\n",
    "convert it to Fahrenheit, and display the result."
   ]
  },
  {
   "cell_type": "code",
   "execution_count": 5,
   "id": "d0e43673-3089-4a7d-aaa6-092a15b7cc29",
   "metadata": {},
   "outputs": [
    {
     "name": "stdin",
     "output_type": "stream",
     "text": [
      "Enter the temrature in Celsius: 100\n"
     ]
    },
    {
     "name": "stdout",
     "output_type": "stream",
     "text": [
      "100.0 degrees Celsius is equal to 212.0 degrees Fahrenheit\n"
     ]
    }
   ],
   "source": [
    "celsius=float(input(\"Enter the temrature in Celsius:\"))\n",
    "\n",
    "# Here in farenhite i am storing the value\n",
    "Fahrenheit=(celsius*9/5)+32\n",
    "print(f\"{celsius} degrees Celsius is equal to {Fahrenheit} degrees Fahrenheit\")\n"
   ]
  },
  {
   "cell_type": "raw",
   "id": "d3180720-2568-4e9d-8832-200053b7bd6d",
   "metadata": {},
   "source": [
    "TOPIC: String Based Questions"
   ]
  },
  {
   "cell_type": "markdown",
   "id": "51794d67-ba5b-4a24-a6ba-28b31cb0285d",
   "metadata": {},
   "source": [
    "1. Write a Python program that takes a string as input and prints the length of\n",
    "the string."
   ]
  },
  {
   "cell_type": "code",
   "execution_count": 9,
   "id": "1b5bf19d-3bc4-43ae-a9b2-814b7e6982f0",
   "metadata": {},
   "outputs": [
    {
     "name": "stdin",
     "output_type": "stream",
     "text": [
      "Enter the String Mohd Asif\n"
     ]
    },
    {
     "name": "stdout",
     "output_type": "stream",
     "text": [
      "The Length of the String is:  9\n"
     ]
    }
   ],
   "source": [
    "x=input(\"Enter the String\")\n",
    "# in y storing the length of string value and then showing in print\n",
    "y=len(x)\n",
    "print(\"The Length of the String is: \", y)"
   ]
  },
  {
   "cell_type": "markdown",
   "id": "a256978b-f8f9-4033-a66d-9ffa935e2c97",
   "metadata": {},
   "source": [
    "2. Create a program that takes a sentence from the user and counts the number\n",
    "of vowels (a, e, i, o, u) in the string."
   ]
  },
  {
   "cell_type": "code",
   "execution_count": 10,
   "id": "cc5d3445-4cdc-4bb1-a65e-1f11c392b0a6",
   "metadata": {},
   "outputs": [
    {
     "name": "stdin",
     "output_type": "stream",
     "text": [
      "Enter a Sentence Mohd Asif The Good Day Is coming be Motivated and Do Good\n"
     ]
    },
    {
     "name": "stdout",
     "output_type": "stream",
     "text": [
      "the number of vowels in this sentence is: 19\n"
     ]
    }
   ],
   "source": [
    "x=input(\"Enter a Sentence\")\n",
    "# initializing vovels in y\n",
    "y=0\n",
    "vowels=\"aeiouAEIOU\"\n",
    "\n",
    "for char in x:\n",
    "    if char in vowels:\n",
    "        y+=1\n",
    "        \n",
    "        \n",
    "print(\"the number of vowels in this sentence is:\", y)       "
   ]
  },
  {
   "cell_type": "markdown",
   "id": "4602ade0-2482-4a98-b8bd-a63e89f4c132",
   "metadata": {},
   "source": [
    "3. Given a string, reverse the order of characters using string slicing and print\n",
    "the reversed string."
   ]
  },
  {
   "cell_type": "code",
   "execution_count": 1,
   "id": "5599ade1-b59c-4d41-b814-002caa146e54",
   "metadata": {},
   "outputs": [
    {
     "name": "stdin",
     "output_type": "stream",
     "text": [
      "Enter your String: Mohd Asif\n"
     ]
    },
    {
     "name": "stdout",
     "output_type": "stream",
     "text": [
      "Reverse String is: fisA dhoM\n"
     ]
    }
   ],
   "source": [
    "x=input(\"Enter your String:\")\n",
    "y=x[::-1]\n",
    "print(\"Reverse String is:\",y)"
   ]
  },
  {
   "cell_type": "markdown",
   "id": "526dbb52-4a67-4cb5-a2df-682bce0267b3",
   "metadata": {},
   "source": [
    "4. Write a program that takes a string as input and checks if it is a palindrome\n",
    "(reads the same forwards and backwards)."
   ]
  },
  {
   "cell_type": "code",
   "execution_count": 4,
   "id": "4b5a112f-7497-46ee-87b9-b4df2b790a12",
   "metadata": {},
   "outputs": [
    {
     "name": "stdin",
     "output_type": "stream",
     "text": [
      "Enter the String: malylam\n"
     ]
    },
    {
     "name": "stdout",
     "output_type": "stream",
     "text": [
      "This is palindrome\n"
     ]
    }
   ],
   "source": [
    "original_string=input(\"Enter the String:\")\n",
    "reversed_string=original_string[::-1]\n",
    "if original_string== reversed_string:\n",
    "    print(\"This is palindrome\")\n",
    "else:\n",
    "    print(\"This is not palindrome\")"
   ]
  },
  {
   "cell_type": "markdown",
   "id": "dcb84207-4cdb-42f4-8954-5a7d00838a7a",
   "metadata": {},
   "source": [
    "5. Create a program that takes a string as input and removes all the spaces from\n",
    "it. Print the modified string without spaces."
   ]
  },
  {
   "cell_type": "code",
   "execution_count": 6,
   "id": "baf9574d-472c-4557-a964-e49038f11c7f",
   "metadata": {},
   "outputs": [
    {
     "name": "stdin",
     "output_type": "stream",
     "text": [
      "Enter the String Mohd Asif From Allahabad\n"
     ]
    },
    {
     "name": "stdout",
     "output_type": "stream",
     "text": [
      "String Without Space is: MohdAsifFromAllahabad\n"
     ]
    }
   ],
   "source": [
    "x=input(\"Enter the String\")\n",
    "y=x.replace(\" \",\"\")\n",
    "print(\"String Without Space is:\",y)"
   ]
  },
  {
   "cell_type": "code",
   "execution_count": null,
   "id": "0b3bbd3f-d3fe-4fa6-b4aa-7546738b62b6",
   "metadata": {},
   "outputs": [],
   "source": []
  }
 ],
 "metadata": {
  "kernelspec": {
   "display_name": "Python 3 (ipykernel)",
   "language": "python",
   "name": "python3"
  },
  "language_info": {
   "codemirror_mode": {
    "name": "ipython",
    "version": 3
   },
   "file_extension": ".py",
   "mimetype": "text/x-python",
   "name": "python",
   "nbconvert_exporter": "python",
   "pygments_lexer": "ipython3",
   "version": "3.10.8"
  }
 },
 "nbformat": 4,
 "nbformat_minor": 5
}
